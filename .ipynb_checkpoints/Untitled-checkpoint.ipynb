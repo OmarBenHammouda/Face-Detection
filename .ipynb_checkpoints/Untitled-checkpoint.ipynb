{
 "cells": [
  {
   "cell_type": "code",
   "execution_count": 2,
   "id": "d50ebfb2",
   "metadata": {},
   "outputs": [
    {
     "ename": "NameError",
     "evalue": "name 'cv2' is not defined",
     "output_type": "error",
     "traceback": [
      "\u001b[1;31m---------------------------------------------------------------------------\u001b[0m",
      "\u001b[1;31mNameError\u001b[0m                                 Traceback (most recent call last)",
      "Cell \u001b[1;32mIn[2], line 5\u001b[0m\n\u001b[0;32m      2\u001b[0m \u001b[38;5;28;01mimport\u001b[39;00m \u001b[38;5;21;01mmatplotlib\u001b[39;00m\u001b[38;5;21;01m.\u001b[39;00m\u001b[38;5;21;01mpyplot\u001b[39;00m \u001b[38;5;28;01mas\u001b[39;00m \u001b[38;5;21;01mplt\u001b[39;00m\n\u001b[0;32m      3\u001b[0m \u001b[38;5;28;01mfrom\u001b[39;00m \u001b[38;5;21;01mIPython\u001b[39;00m\u001b[38;5;21;01m.\u001b[39;00m\u001b[38;5;21;01mdisplay\u001b[39;00m \u001b[38;5;28;01mimport\u001b[39;00m Image\n\u001b[1;32m----> 5\u001b[0m Im\u001b[38;5;241m=\u001b[39mcv2\u001b[38;5;241m.\u001b[39mimread(\u001b[38;5;124m\"\u001b[39m\u001b[38;5;124m.\u001b[39m\u001b[38;5;130;01m\\\\\u001b[39;00m\u001b[38;5;124mth.jpg\u001b[39m\u001b[38;5;124m\"\u001b[39m,cv2\u001b[38;5;241m.\u001b[39mIMREAD_COLOR)\n\u001b[0;32m      6\u001b[0m b,g,r \u001b[38;5;241m=\u001b[39m cv2\u001b[38;5;241m.\u001b[39msplit(Im)\n\u001b[0;32m      8\u001b[0m plt\u001b[38;5;241m.\u001b[39mfigure(figsize\u001b[38;5;241m=\u001b[39m(\u001b[38;5;241m20\u001b[39m,\u001b[38;5;241m5\u001b[39m))\n",
      "\u001b[1;31mNameError\u001b[0m: name 'cv2' is not defined"
     ]
    }
   ],
   "source": []
  },
  {
   "cell_type": "code",
   "execution_count": 1,
   "id": "b3111b0c",
   "metadata": {},
   "outputs": [
    {
     "ename": "ModuleNotFoundError",
     "evalue": "No module named 'cv2'",
     "output_type": "error",
     "traceback": [
      "\u001b[1;31m---------------------------------------------------------------------------\u001b[0m",
      "\u001b[1;31mModuleNotFoundError\u001b[0m                       Traceback (most recent call last)",
      "Cell \u001b[1;32mIn[1], line 1\u001b[0m\n\u001b[1;32m----> 1\u001b[0m \u001b[38;5;28;01mimport\u001b[39;00m \u001b[38;5;21;01mcv2\u001b[39;00m\n\u001b[0;32m      2\u001b[0m \u001b[38;5;28;01mimport\u001b[39;00m \u001b[38;5;21;01mnumpy\u001b[39;00m \u001b[38;5;28;01mas\u001b[39;00m \u001b[38;5;21;01mnp\u001b[39;00m \n\u001b[0;32m      3\u001b[0m \u001b[38;5;28;01mimport\u001b[39;00m \u001b[38;5;21;01mface_recognition\u001b[39;00m \u001b[38;5;28;01mas\u001b[39;00m \u001b[38;5;21;01mfr\u001b[39;00m\n",
      "\u001b[1;31mModuleNotFoundError\u001b[0m: No module named 'cv2'"
     ]
    }
   ],
   "source": [
    "import cv2\n",
    "import numpy as np \n",
    "import face_recognition as fr"
   ]
  },
  {
   "cell_type": "code",
   "execution_count": 2,
   "id": "05148dab",
   "metadata": {},
   "outputs": [
    {
     "name": "stdout",
     "output_type": "stream",
     "text": [
      "Collecting opencv-python\n",
      "  Obtaining dependency information for opencv-python from https://files.pythonhosted.org/packages/c7/ec/9dabb6a9abfdebb3c45b0cc52dec901caafef2b2c7e7d6a839ed86d81e91/opencv_python-4.9.0.80-cp37-abi3-win_amd64.whl.metadata\n",
      "  Using cached opencv_python-4.9.0.80-cp37-abi3-win_amd64.whl.metadata (20 kB)\n",
      "Requirement already satisfied: numpy>=1.21.2 in c:\\users\\benha\\anaconda3\\lib\\site-packages (from opencv-python) (1.24.3)\n",
      "Using cached opencv_python-4.9.0.80-cp37-abi3-win_amd64.whl (38.6 MB)\n",
      "Installing collected packages: opencv-python\n",
      "Successfully installed opencv-python-4.9.0.80\n"
     ]
    }
   ],
   "source": [
    "!pip install opencv-python"
   ]
  },
  {
   "cell_type": "code",
   "execution_count": 3,
   "id": "9d22037b",
   "metadata": {},
   "outputs": [
    {
     "ename": "ModuleNotFoundError",
     "evalue": "No module named 'face_recognition'",
     "output_type": "error",
     "traceback": [
      "\u001b[1;31m---------------------------------------------------------------------------\u001b[0m",
      "\u001b[1;31mModuleNotFoundError\u001b[0m                       Traceback (most recent call last)",
      "Cell \u001b[1;32mIn[3], line 3\u001b[0m\n\u001b[0;32m      1\u001b[0m \u001b[38;5;28;01mimport\u001b[39;00m \u001b[38;5;21;01mcv2\u001b[39;00m\n\u001b[0;32m      2\u001b[0m \u001b[38;5;28;01mimport\u001b[39;00m \u001b[38;5;21;01mnumpy\u001b[39;00m \u001b[38;5;28;01mas\u001b[39;00m \u001b[38;5;21;01mnp\u001b[39;00m \n\u001b[1;32m----> 3\u001b[0m \u001b[38;5;28;01mimport\u001b[39;00m \u001b[38;5;21;01mface_recognition\u001b[39;00m \u001b[38;5;28;01mas\u001b[39;00m \u001b[38;5;21;01mfr\u001b[39;00m\n",
      "\u001b[1;31mModuleNotFoundError\u001b[0m: No module named 'face_recognition'"
     ]
    }
   ],
   "source": [
    "import cv2\n",
    "import numpy as np \n",
    "import face_recognition as fr\n"
   ]
  },
  {
   "cell_type": "code",
   "execution_count": 4,
   "id": "8c683942",
   "metadata": {},
   "outputs": [
    {
     "name": "stderr",
     "output_type": "stream",
     "text": [
      "ERROR: Could not find a version that satisfies the requirement face_recognition-python (from versions: none)\n",
      "ERROR: No matching distribution found for face_recognition-python\n"
     ]
    }
   ],
   "source": [
    "!pip install face_recognition-python"
   ]
  },
  {
   "cell_type": "code",
   "execution_count": 5,
   "id": "505ef770",
   "metadata": {},
   "outputs": [
    {
     "name": "stdout",
     "output_type": "stream",
     "text": [
      "Microsoft Windows [version 10.0.22621.3007]\n",
      "(c) Microsoft Corporation. Tous droits r�serv�s.\n",
      "\n",
      "C:\\Users\\benha\\python projects\\visage detections>where python\n",
      "C:\\Users\\benha\\anaconda3\\python.exe\n",
      "C:\\Users\\benha\\AppData\\Local\\Programs\\Python\\Python311\\python.exe\n",
      "C:\\Users\\benha\\AppData\\Local\\Microsoft\\WindowsApps\\python.exe\n",
      "\n",
      "C:\\Users\\benha\\python projects\\visage detections>"
     ]
    }
   ],
   "source": [
    "%%cmd \n",
    "where python\n"
   ]
  },
  {
   "cell_type": "code",
   "execution_count": 6,
   "id": "78d4c995",
   "metadata": {},
   "outputs": [
    {
     "name": "stdout",
     "output_type": "stream",
     "text": [
      "Microsoft Windows [version 10.0.22621.3007]\n",
      "(c) Microsoft Corporation. Tous droits r�serv�s.\n",
      "\n",
      "C:\\Users\\benha\\python projects\\visage detections>pip install cmake\n",
      "Collecting cmake\n",
      "  Obtaining dependency information for cmake from https://files.pythonhosted.org/packages/09/fc/0ad863c735a11f2d3740e718040267fffe540ea79f7800621062f21286ca/cmake-3.28.1-py2.py3-none-win_amd64.whl.metadata\n",
      "  Downloading cmake-3.28.1-py2.py3-none-win_amd64.whl.metadata (6.5 kB)\n",
      "Downloading cmake-3.28.1-py2.py3-none-win_amd64.whl (35.8 MB)\n",
      "   ---------------------------------------- 35.8/35.8 MB 1.4 MB/s eta 0:00:007\n",
      "Installing collected packages: cmake\n",
      "Successfully installed cmake-3.28.1\n",
      "\n",
      "C:\\Users\\benha\\python projects\\visage detections>"
     ]
    }
   ],
   "source": [
    "%%cmd\n",
    "pip install cmake"
   ]
  },
  {
   "cell_type": "code",
   "execution_count": 7,
   "id": "4fa5d489",
   "metadata": {},
   "outputs": [
    {
     "name": "stdout",
     "output_type": "stream",
     "text": [
      "Microsoft Windows [version 10.0.22621.3007]\n",
      "(c) Microsoft Corporation. Tous droits r�serv�s.\n",
      "\n",
      "C:\\Users\\benha\\python projects\\visage detections>python --version\n",
      "Python 3.11.5\n",
      "\n",
      "C:\\Users\\benha\\python projects\\visage detections>"
     ]
    }
   ],
   "source": [
    "%%cmd\n",
    "python --version"
   ]
  },
  {
   "cell_type": "code",
   "execution_count": 9,
   "id": "795f2267",
   "metadata": {},
   "outputs": [
    {
     "name": "stdout",
     "output_type": "stream",
     "text": [
      "Microsoft Windows [version 10.0.22621.3007]\n",
      "(c) Microsoft Corporation. Tous droits r�serv�s.\n",
      "\n",
      "C:\\Users\\benha\\python projects\\visage detections>pip install face-recognition\n",
      "Collecting face-recognition\n",
      "  Downloading face_recognition-1.3.0-py2.py3-none-any.whl (15 kB)\n",
      "Collecting face-recognition-models>=0.3.0 (from face-recognition)\n",
      "  Downloading face_recognition_models-0.3.0.tar.gz (100.1 MB)\n",
      "     ------------------------------------ 100.1/100.1 MB 334.9 kB/s eta 0:00:00527.1 kB/s eta 0:00:18\n",
      "  Preparing metadata (setup.py): started\n",
      "  Preparing metadata (setup.py): finished with status 'done'\n",
      "Requirement already satisfied: Click>=6.0 in c:\\users\\benha\\anaconda3\\lib\\site-packages (from face-recognition) (8.0.4)\n",
      "Collecting dlib>=19.7 (from face-recognition)\n",
      "  Downloading dlib-19.24.2.tar.gz (11.8 MB)\n",
      "     -------------------------------------- 11.8/11.8 MB 533.1 kB/s eta 0:00:00\n",
      "  Installing build dependencies: started\n",
      "  Installing build dependencies: finished with status 'done'\n",
      "  Getting requirements to build wheel: started\n",
      "  Getting requirements to build wheel: finished with status 'done'\n",
      "  Preparing metadata (pyproject.toml): started\n",
      "  Preparing metadata (pyproject.toml): finished with status 'done'\n",
      "Requirement already satisfied: numpy in c:\\users\\benha\\anaconda3\\lib\\site-packages (from face-recognition) (1.24.3)\n",
      "Requirement already satisfied: Pillow in c:\\users\\benha\\anaconda3\\lib\\site-packages (from face-recognition) (9.4.0)\n",
      "Requirement already satisfied: colorama in c:\\users\\benha\\anaconda3\\lib\\site-packages (from Click>=6.0->face-recognition) (0.4.6)\n",
      "Building wheels for collected packages: dlib, face-recognition-models\n",
      "  Building wheel for dlib (pyproject.toml): started\n",
      "  Building wheel for dlib (pyproject.toml): finished with status 'error'\n"
     ]
    },
    {
     "name": "stderr",
     "output_type": "stream",
     "text": [
      "  error: subprocess-exited-with-error\n",
      "  \n",
      "  Building wheel for dlib (pyproject.toml) did not run successfully.\n",
      "  exit code: 1\n",
      "  \n",
      "  [78 lines of output]\n",
      "  running bdist_wheel\n",
      "  running build\n",
      "  running build_ext\n",
      "  <string>:125: DeprecationWarning: distutils Version classes are deprecated. Use packaging.version instead.\n",
      "  Building extension for Python 3.11.5 | packaged by Anaconda, Inc. | (main, Sep 11 2023, 13:26:23) [MSC v.1916 64 bit (AMD64)]\n",
      "  Invoking CMake setup: 'cmake C:\\Users\\benha\\AppData\\Local\\Temp\\pip-install-gffdj7tg\\dlib_f4f29829c14a4aeebb5930c6ba34888f\\tools\\python -DCMAKE_LIBRARY_OUTPUT_DIRECTORY=C:\\Users\\benha\\AppData\\Local\\Temp\\pip-install-gffdj7tg\\dlib_f4f29829c14a4aeebb5930c6ba34888f\\build\\lib.win-amd64-cpython-311 -DPYTHON_EXECUTABLE=C:\\Users\\benha\\anaconda3\\python.exe -DCMAKE_LIBRARY_OUTPUT_DIRECTORY_RELEASE=C:\\Users\\benha\\AppData\\Local\\Temp\\pip-install-gffdj7tg\\dlib_f4f29829c14a4aeebb5930c6ba34888f\\build\\lib.win-amd64-cpython-311 -A x64'\n",
      "  -- Building for: NMake Makefiles\n",
      "  CMake Error at CMakeLists.txt:5 (message):\n",
      "  \n",
      "  \n",
      "  \n",
      "    !!!!!!!!!!!!!!!!!!!!!!!!!!!!!!!!!!!!!!!!!!!!!!!!!!!!!!!!!!!!!!!!!!!!!!!!!!!!!!!\n",
      "  \n",
      "  \n",
      "    You must use Visual Studio to build a python extension on windows.  If you\n",
      "    are getting this error it means you have not installed Visual C++.  Note\n",
      "    that there are many flavors of Visual Studio, like Visual Studio for C#\n",
      "    development.  You need to install Visual Studio for C++.\n",
      "  \n",
      "  \n",
      "    !!!!!!!!!!!!!!!!!!!!!!!!!!!!!!!!!!!!!!!!!!!!!!!!!!!!!!!!!!!!!!!!!!!!!!!!!!!!!!!\n",
      "  \n",
      "  \n",
      "  \n",
      "  \n",
      "  -- Configuring incomplete, errors occurred!\n",
      "  Traceback (most recent call last):\n",
      "    File \"C:\\Users\\benha\\anaconda3\\Lib\\site-packages\\pip\\_vendor\\pyproject_hooks\\_in_process\\_in_process.py\", line 353, in <module>\n",
      "      main()\n",
      "    File \"C:\\Users\\benha\\anaconda3\\Lib\\site-packages\\pip\\_vendor\\pyproject_hooks\\_in_process\\_in_process.py\", line 335, in main\n",
      "      json_out['return_val'] = hook(**hook_input['kwargs'])\n",
      "                               ^^^^^^^^^^^^^^^^^^^^^^^^^^^^\n",
      "    File \"C:\\Users\\benha\\anaconda3\\Lib\\site-packages\\pip\\_vendor\\pyproject_hooks\\_in_process\\_in_process.py\", line 251, in build_wheel\n",
      "      return _build_backend().build_wheel(wheel_directory, config_settings,\n",
      "             ^^^^^^^^^^^^^^^^^^^^^^^^^^^^^^^^^^^^^^^^^^^^^^^^^^^^^^^^^^^^^^\n",
      "    File \"C:\\Users\\benha\\AppData\\Local\\Temp\\pip-build-env-9a8q98y4\\overlay\\Lib\\site-packages\\setuptools\\build_meta.py\", line 404, in build_wheel\n",
      "      return self._build_with_temp_dir(\n",
      "             ^^^^^^^^^^^^^^^^^^^^^^^^^^\n",
      "    File \"C:\\Users\\benha\\AppData\\Local\\Temp\\pip-build-env-9a8q98y4\\overlay\\Lib\\site-packages\\setuptools\\build_meta.py\", line 389, in _build_with_temp_dir\n",
      "      self.run_setup()\n",
      "    File \"C:\\Users\\benha\\AppData\\Local\\Temp\\pip-build-env-9a8q98y4\\overlay\\Lib\\site-packages\\setuptools\\build_meta.py\", line 311, in run_setup\n",
      "      exec(code, locals())\n",
      "    File \"<string>\", line 218, in <module>\n",
      "    File \"C:\\Users\\benha\\AppData\\Local\\Temp\\pip-build-env-9a8q98y4\\overlay\\Lib\\site-packages\\setuptools\\__init__.py\", line 103, in setup\n",
      "      return distutils.core.setup(**attrs)\n",
      "             ^^^^^^^^^^^^^^^^^^^^^^^^^^^^^\n",
      "    File \"C:\\Users\\benha\\AppData\\Local\\Temp\\pip-build-env-9a8q98y4\\overlay\\Lib\\site-packages\\setuptools\\_distutils\\core.py\", line 185, in setup\n",
      "      return run_commands(dist)\n",
      "             ^^^^^^^^^^^^^^^^^^\n",
      "    File \"C:\\Users\\benha\\AppData\\Local\\Temp\\pip-build-env-9a8q98y4\\overlay\\Lib\\site-packages\\setuptools\\_distutils\\core.py\", line 201, in run_commands\n",
      "      dist.run_commands()\n",
      "    File \"C:\\Users\\benha\\AppData\\Local\\Temp\\pip-build-env-9a8q98y4\\overlay\\Lib\\site-packages\\setuptools\\_distutils\\dist.py\", line 969, in run_commands\n",
      "      self.run_command(cmd)\n",
      "    File \"C:\\Users\\benha\\AppData\\Local\\Temp\\pip-build-env-9a8q98y4\\overlay\\Lib\\site-packages\\setuptools\\dist.py\", line 963, in run_command\n",
      "      super().run_command(command)\n",
      "    File \"C:\\Users\\benha\\AppData\\Local\\Temp\\pip-build-env-9a8q98y4\\overlay\\Lib\\site-packages\\setuptools\\_distutils\\dist.py\", line 988, in run_command\n",
      "      cmd_obj.run()\n",
      "    File \"C:\\Users\\benha\\AppData\\Local\\Temp\\pip-build-env-9a8q98y4\\overlay\\Lib\\site-packages\\wheel\\bdist_wheel.py\", line 368, in run\n",
      "      self.run_command(\"build\")\n",
      "    File \"C:\\Users\\benha\\AppData\\Local\\Temp\\pip-build-env-9a8q98y4\\overlay\\Lib\\site-packages\\setuptools\\_distutils\\cmd.py\", line 318, in run_command\n",
      "      self.distribution.run_command(command)\n",
      "    File \"C:\\Users\\benha\\AppData\\Local\\Temp\\pip-build-env-9a8q98y4\\overlay\\Lib\\site-packages\\setuptools\\dist.py\", line 963, in run_command\n",
      "      super().run_command(command)\n",
      "    File \"C:\\Users\\benha\\AppData\\Local\\Temp\\pip-build-env-9a8q98y4\\overlay\\Lib\\site-packages\\setuptools\\_distutils\\dist.py\", line 988, in run_command\n",
      "      cmd_obj.run()\n",
      "    File \"C:\\Users\\benha\\AppData\\Local\\Temp\\pip-build-env-9a8q98y4\\overlay\\Lib\\site-packages\\setuptools\\_distutils\\command\\build.py\", line 131, in run\n",
      "      self.run_command(cmd_name)\n",
      "    File \"C:\\Users\\benha\\AppData\\Local\\Temp\\pip-build-env-9a8q98y4\\overlay\\Lib\\site-packages\\setuptools\\_distutils\\cmd.py\", line 318, in run_command\n",
      "      self.distribution.run_command(command)\n",
      "    File \"C:\\Users\\benha\\AppData\\Local\\Temp\\pip-build-env-9a8q98y4\\overlay\\Lib\\site-packages\\setuptools\\dist.py\", line 963, in run_command\n",
      "      super().run_command(command)\n",
      "    File \"C:\\Users\\benha\\AppData\\Local\\Temp\\pip-build-env-9a8q98y4\\overlay\\Lib\\site-packages\\setuptools\\_distutils\\dist.py\", line 988, in run_command\n",
      "      cmd_obj.run()\n",
      "    File \"<string>\", line 130, in run\n",
      "    File \"<string>\", line 167, in build_extension\n",
      "    File \"C:\\Users\\benha\\anaconda3\\Lib\\subprocess.py\", line 413, in check_call\n",
      "      raise CalledProcessError(retcode, cmd)\n",
      "  subprocess.CalledProcessError: Command '['cmake', 'C:\\\\Users\\\\benha\\\\AppData\\\\Local\\\\Temp\\\\pip-install-gffdj7tg\\\\dlib_f4f29829c14a4aeebb5930c6ba34888f\\\\tools\\\\python', '-DCMAKE_LIBRARY_OUTPUT_DIRECTORY=C:\\\\Users\\\\benha\\\\AppData\\\\Local\\\\Temp\\\\pip-install-gffdj7tg\\\\dlib_f4f29829c14a4aeebb5930c6ba34888f\\\\build\\\\lib.win-amd64-cpython-311', '-DPYTHON_EXECUTABLE=C:\\\\Users\\\\benha\\\\anaconda3\\\\python.exe', '-DCMAKE_LIBRARY_OUTPUT_DIRECTORY_RELEASE=C:\\\\Users\\\\benha\\\\AppData\\\\Local\\\\Temp\\\\pip-install-gffdj7tg\\\\dlib_f4f29829c14a4aeebb5930c6ba34888f\\\\build\\\\lib.win-amd64-cpython-311', '-A', 'x64']' returned non-zero exit status 1.\n",
      "  [end of output]\n",
      "  \n",
      "  note: This error originates from a subprocess, and is likely not a problem with pip.\n",
      "  ERROR: Failed building wheel for dlib\n"
     ]
    },
    {
     "name": "stdout",
     "output_type": "stream",
     "text": [
      "  Building wheel for face-recognition-models (setup.py): started\n",
      "  Building wheel for face-recognition-models (setup.py): finished with status 'done'\n",
      "  Created wheel for face-recognition-models: filename=face_recognition_models-0.3.0-py2.py3-none-any.whl size=100566184 sha256=37537757e107fac87faf670e420ef7beae3413310edce6e27852a3b42518cd90\n",
      "  Stored in directory: c:\\users\\benha\\appdata\\local\\pip\\cache\\wheels\\04\\52\\ec\\9355da79c29f160b038a20c784db2803c2f9fa2c8a462c176a\n",
      "Successfully built face-recognition-models\n",
      "Failed to build dlib\n"
     ]
    },
    {
     "name": "stderr",
     "output_type": "stream",
     "text": [
      "ERROR: Could not build wheels for dlib, which is required to install pyproject.toml-based projects\r\n"
     ]
    },
    {
     "name": "stdout",
     "output_type": "stream",
     "text": [
      "\n",
      "C:\\Users\\benha\\python projects\\visage detections>"
     ]
    }
   ],
   "source": [
    "%%cmd \n",
    "pip install face-recognition\n"
   ]
  },
  {
   "cell_type": "code",
   "execution_count": 10,
   "id": "732dd104",
   "metadata": {},
   "outputs": [
    {
     "ename": "ModuleNotFoundError",
     "evalue": "No module named 'face_recognition'",
     "output_type": "error",
     "traceback": [
      "\u001b[1;31m---------------------------------------------------------------------------\u001b[0m",
      "\u001b[1;31mModuleNotFoundError\u001b[0m                       Traceback (most recent call last)",
      "Cell \u001b[1;32mIn[10], line 1\u001b[0m\n\u001b[1;32m----> 1\u001b[0m \u001b[38;5;28;01mimport\u001b[39;00m \u001b[38;5;21;01mface_recognition\u001b[39;00m\n",
      "\u001b[1;31mModuleNotFoundError\u001b[0m: No module named 'face_recognition'"
     ]
    }
   ],
   "source": [
    "import face_recognition \n"
   ]
  },
  {
   "cell_type": "code",
   "execution_count": null,
   "id": "67e52197",
   "metadata": {},
   "outputs": [],
   "source": [
    "import cv2 \n",
    "import numpy as np \n",
    "import face_recognition as fr\n"
   ]
  },
  {
   "cell_type": "code",
   "execution_count": null,
   "id": "32225029",
   "metadata": {},
   "outputs": [],
   "source": [
    "video_capture = cv2.VideoCapture(0)"
   ]
  },
  {
   "cell_type": "code",
   "execution_count": 1,
   "id": "5169cd92",
   "metadata": {},
   "outputs": [
    {
     "ename": "NameError",
     "evalue": "name 'fr' is not defined",
     "output_type": "error",
     "traceback": [
      "\u001b[1;31m---------------------------------------------------------------------------\u001b[0m",
      "\u001b[1;31mNameError\u001b[0m                                 Traceback (most recent call last)",
      "Cell \u001b[1;32mIn[1], line 1\u001b[0m\n\u001b[1;32m----> 1\u001b[0m image \u001b[38;5;241m=\u001b[39m fr\u001b[38;5;241m.\u001b[39mload_image_file(\u001b[38;5;124m\"\u001b[39m\u001b[38;5;124mth.jpg\u001b[39m\u001b[38;5;124m\"\u001b[39m)\n\u001b[0;32m      2\u001b[0m image_face_encoding \u001b[38;5;241m=\u001b[39m fr\u001b[38;5;241m.\u001b[39mface_encodings(image)[\u001b[38;5;241m0\u001b[39m]\n\u001b[0;32m      3\u001b[0m known_face_encodings \u001b[38;5;241m=\u001b[39m [image_face_encoding]\n",
      "\u001b[1;31mNameError\u001b[0m: name 'fr' is not defined"
     ]
    }
   ],
   "source": [
    "image = fr.load_image_file(\"th.jpg\")\n",
    "image_face_encoding = fr.face_encodings(image)[0]\n",
    "known_face_encodings = [image_face_encoding]\n",
    "known_face_names=[\"Leo \"]\n"
   ]
  },
  {
   "cell_type": "code",
   "execution_count": null,
   "id": "70fec4e0",
   "metadata": {},
   "outputs": [],
   "source": [
    "import cv2 \n",
    "import numpy as np \n",
    "import face_recognition as fr\n",
    "video_capture = cv2.VideoCapture(0)\n",
    "image = fr.load_image_file(\"th.jpg\")\n",
    "image_face_encoding = fr.face_encodings(image)[0]# tala3 kdeh mn wejeh fel taswera o 0 yekho awel visage \n",
    "known_face_encodings = [image_face_encoding]# visage ely tal3eto bech thoto fy liste \n",
    "known_face_names=[\"Leo \"]\n",
    "while True:\n",
    "    ret,frame = video_capture.read()# ret va avoir si le lecture est réussite et frame va recvoir la capture \n",
    "    rgb_frame = frame[:,:,::-1]# toujours utilisé pour renverse l'ordre de BGR a RGB \n",
    "    \n",
    "    fc_location = fr.face_locations(rgb_frame)#Détecter l'emplacement de visage \n",
    "    fc_encodings = fr.face_encodings(rgb_frame , fc_locations)\n",
    "    \n",
    "    for(top , right , bottom , left),face_encodings in zip(fc_locations,face_encodings):\n",
    "        mathces = fr.compare_faces(known_face_encoding)\n",
    "        name = \"unkown\"\n",
    "        fc_distances=fr.face_distances(known_face_encodings, face_encoding)\n",
    "        match_index = np.argmin(fc_distances)\n",
    "        if matches[match_index]:\n",
    "            name = known_face_names[match_index]\n",
    "            \n",
    "        cv2.rectangle(frame,(left,top),(right,bottom),(0,0,255),2)\n",
    "        \n",
    "        cv2.rectangle(frame, (left,bottom -35),(right,bottom),(0,0,255) ,cv2.FILLED)\n",
    "        \n",
    "\n"
   ]
  }
 ],
 "metadata": {
  "kernelspec": {
   "display_name": "Python 3 (ipykernel)",
   "language": "python",
   "name": "python3"
  },
  "language_info": {
   "codemirror_mode": {
    "name": "ipython",
    "version": 3
   },
   "file_extension": ".py",
   "mimetype": "text/x-python",
   "name": "python",
   "nbconvert_exporter": "python",
   "pygments_lexer": "ipython3",
   "version": "3.11.5"
  }
 },
 "nbformat": 4,
 "nbformat_minor": 5
}
